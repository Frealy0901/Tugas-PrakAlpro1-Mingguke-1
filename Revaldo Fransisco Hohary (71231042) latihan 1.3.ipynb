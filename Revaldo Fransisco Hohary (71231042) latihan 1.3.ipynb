{
 "cells": [
  {
   "cell_type": "code",
   "execution_count": 1,
   "id": "1e66e71a",
   "metadata": {},
   "outputs": [
    {
     "name": "stdout",
     "output_type": "stream",
     "text": [
      "Waktu yang dibutuhkan: 8 tahun\n"
     ]
    }
   ],
   "source": [
    "\n",
    "P = 200000000\n",
    "A = 400000000\n",
    "r = 0.10 \n",
    "n = 0\n",
    "\n",
    "while P < A:\n",
    "    P *= (1 + r) \n",
    "    n += 1        \n",
    "\n",
    "\n",
    "print(\"Waktu yang dibutuhkan:\", n, \"tahun\")\n"
   ]
  },
  {
   "cell_type": "code",
   "execution_count": null,
   "id": "d2590b06",
   "metadata": {},
   "outputs": [],
   "source": []
  }
 ],
 "metadata": {
  "kernelspec": {
   "display_name": "Python 3 (ipykernel)",
   "language": "python",
   "name": "python3"
  },
  "language_info": {
   "codemirror_mode": {
    "name": "ipython",
    "version": 3
   },
   "file_extension": ".py",
   "mimetype": "text/x-python",
   "name": "python",
   "nbconvert_exporter": "python",
   "pygments_lexer": "ipython3",
   "version": "3.11.5"
  }
 },
 "nbformat": 4,
 "nbformat_minor": 5
}
