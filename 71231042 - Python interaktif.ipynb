
(base) C:\Users\Asus>python
Python 3.11.5 | packaged by Anaconda, Inc. | (main, Sep 11 2023, 13:26:23) [MSC v.1916 64 bit (AMD64)] on win32
Type "help", "copyright", "credits" or "license" for more information.
>>> emas = 25
>>> harga_beli = 650000
>>> harga_skrg = 685000
>>> keuntungan = harga_skrg - harga_beli
>>> persen = keuntungan / harga_beli * 100
>>> keuntungan
35000
>>> persen
5.384615384615385
>>> emas_skrg = emas + 15
>>> emas_skrg
40
>>> harga_kmdian = 715000
>>> keuntungan2 = harga_kmdian - harga_skrg
>>> persen2 = keuntungan2 / harga_skrg * 100
>>> keuntungan2
30000
>>> persen2
4.37956204379562
>>>
